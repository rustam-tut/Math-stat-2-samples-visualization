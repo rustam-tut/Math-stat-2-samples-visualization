{
 "cells": [
  {
   "cell_type": "markdown",
   "metadata": {},
   "source": [
    "# Лабораторная работа 1"
   ]
  },
  {
   "cell_type": "markdown",
   "metadata": {},
   "source": [
    "## Выборки и их представления"
   ]
  },
  {
   "cell_type": "code",
   "execution_count": null,
   "metadata": {},
   "outputs": [],
   "source": [
    "import numpy as np\n",
    "import matplotlib.pyplot as plt\n",
    "from mpl_toolkits.mplot3d import Axes3D\n",
    "import pandas as pd\n",
    "%matplotlib tk"
   ]
  },
  {
   "cell_type": "markdown",
   "metadata": {},
   "source": [
    "Вариант 2. Нормальное распределния $N(m, \\sigma^2)$, $m = 2$, $\\sigma = 0.5$, $n = 60$, $\\alpha=0.03$"
   ]
  },
  {
   "cell_type": "code",
   "execution_count": 2,
   "metadata": {},
   "outputs": [],
   "source": [
    "n = 1000\n",
    "m = 2.0\n",
    "s = 0.5\n",
    "norm_sample = np.random.normal(m, s, size=n)"
   ]
  },
  {
   "cell_type": "markdown",
   "metadata": {},
   "source": [
    "#### Визуализация наблюдений"
   ]
  },
  {
   "cell_type": "code",
   "execution_count": 3,
   "metadata": {},
   "outputs": [],
   "source": [
    "def sample_plot(sample, title=\"Визуализация выборки N(2, 0.25)\"):\n",
    "    n = len(sample)\n",
    "    x_l = np.linspace(1, n, n)\n",
    "    plt.figure(figsize=(12, 9))\n",
    "    plt.plot(x_l, sample)\n",
    "    plt.title(title)"
   ]
  },
  {
   "cell_type": "code",
   "execution_count": 4,
   "metadata": {},
   "outputs": [],
   "source": [
    "sample_plot(norm_sample)"
   ]
  },
  {
   "cell_type": "markdown",
   "metadata": {},
   "source": [
    "#### Вариационный ряд и ф-ия эмпирического распределения"
   ]
  },
  {
   "cell_type": "code",
   "execution_count": 5,
   "metadata": {},
   "outputs": [],
   "source": [
    "def create_ecdf_plot(sample):\n",
    "    n = len(sample)\n",
    "    sample_sort = np.sort(sample)\n",
    "    y = np.array([(i + 1) / n for i in range(len(sample))])\n",
    "    plt.step(sample_sort, y)\n",
    "    plt.title('Функция эмпирического распредения')\n",
    "    plt.show()"
   ]
  },
  {
   "cell_type": "code",
   "execution_count": 6,
   "metadata": {},
   "outputs": [],
   "source": [
    "create_ecdf_plot(norm_sample)"
   ]
  },
  {
   "cell_type": "markdown",
   "metadata": {},
   "source": [
    "#### Гистограмма по 10 интервалам"
   ]
  },
  {
   "cell_type": "code",
   "execution_count": 7,
   "metadata": {},
   "outputs": [],
   "source": [
    "def hist_10_intervals(sample):\n",
    "    plt.figure(figsize=(11, 8))\n",
    "    plt.hist(sample, bins=10)\n",
    "    plt.grid()\n",
    "    plt.title('Гистограмма по 10 выборкам')\n",
    "    plt.show()"
   ]
  },
  {
   "cell_type": "code",
   "execution_count": 8,
   "metadata": {},
   "outputs": [],
   "source": [
    "hist_10_intervals(norm_sample)"
   ]
  },
  {
   "cell_type": "markdown",
   "metadata": {},
   "source": [
    "#### Описание двумерных выборок"
   ]
  },
  {
   "cell_type": "code",
   "execution_count": 9,
   "metadata": {},
   "outputs": [],
   "source": [
    "X = np.array([\n",
    "    57.8, 54.6, 54.8, 51.7, 61.1, 62.3, 52.2, 49.2, 53.9, 60, 56.2, 55.2, 53.3,\n",
    "    57.9, 54, 52.6, 53.8, 53.1, 51.5, 54, 50.4, 53, 53.3, 51.6, 50.9, 49.6,\n",
    "    52.2, 50.5, 51.1, 52.2, 49.2, 49.3\n",
    "])\n",
    "\n",
    "Y = np.array([\n",
    "    17.2, 17.9, 18.8, 19.9, 16, 17.8, 18.8, 19.3, 16.1, 14.8, 17, 17.8, 19.9,\n",
    "    17.1, 15.5, 17.6, 16.3, 17.2, 15.8, 15, 14.4, 15.3, 16.6, 14.9, 14.7, 16.1,\n",
    "    19.5, 15.6, 18.1, 19.5, 15.7, 13.2\n",
    "])"
   ]
  },
  {
   "cell_type": "code",
   "execution_count": 33,
   "metadata": {},
   "outputs": [],
   "source": [
    "def scatter_plot(x, y, title):\n",
    "    plt.figure(figsize=(11, 8))\n",
    "    plt.scatter(x, y)\n",
    "    plt.xlabel('X')\n",
    "    plt.ylabel('Y')\n",
    "    plt.title(title)\n",
    "    plt.grid()\n",
    "    plt.show()"
   ]
  },
  {
   "cell_type": "code",
   "execution_count": 42,
   "metadata": {},
   "outputs": [],
   "source": [
    "scatter_plot(X, Y, 'Диаграмма рассеяния Y от X')"
   ]
  },
  {
   "cell_type": "code",
   "execution_count": 36,
   "metadata": {},
   "outputs": [],
   "source": [
    "scatter_plot(Y, X, 'Диаграмма рассеяния X от Y')"
   ]
  },
  {
   "cell_type": "markdown",
   "metadata": {},
   "source": [
    "#### Выборочные характеристики"
   ]
  },
  {
   "cell_type": "code",
   "execution_count": 52,
   "metadata": {},
   "outputs": [
    {
     "name": "stdout",
     "output_type": "stream",
     "text": [
      "Среднее значение для X = 53.515625\n",
      "Максимальное значение для X = 62.3\n",
      "Минимальное значение для X = 49.2\n",
      "Медианное значение для X = 53.05\n",
      "Стандартное отклонение для X = 3.2944185161231405\n",
      "---------\n",
      "Среднее значение для Y = 16.856250000000003\n",
      "Максимальное значение для Y = 19.9\n",
      "Минимальное значение для Y = 13.2\n",
      "Медианное значение для Y = 16.8\n",
      "Стандартное отклонение для Y = 1.7448025497173025\n",
      "Корреляционная матрица\n"
     ]
    },
    {
     "data": {
      "text/html": [
       "<div>\n",
       "<style scoped>\n",
       "    .dataframe tbody tr th:only-of-type {\n",
       "        vertical-align: middle;\n",
       "    }\n",
       "\n",
       "    .dataframe tbody tr th {\n",
       "        vertical-align: top;\n",
       "    }\n",
       "\n",
       "    .dataframe thead th {\n",
       "        text-align: right;\n",
       "    }\n",
       "</style>\n",
       "<table border=\"1\" class=\"dataframe\">\n",
       "  <thead>\n",
       "    <tr style=\"text-align: right;\">\n",
       "      <th></th>\n",
       "      <th>X</th>\n",
       "      <th>Y</th>\n",
       "    </tr>\n",
       "  </thead>\n",
       "  <tbody>\n",
       "    <tr>\n",
       "      <th>X</th>\n",
       "      <td>1.000000</td>\n",
       "      <td>0.063672</td>\n",
       "    </tr>\n",
       "    <tr>\n",
       "      <th>Y</th>\n",
       "      <td>0.063672</td>\n",
       "      <td>1.000000</td>\n",
       "    </tr>\n",
       "  </tbody>\n",
       "</table>\n",
       "</div>"
      ],
      "text/plain": [
       "          X         Y\n",
       "X  1.000000  0.063672\n",
       "Y  0.063672  1.000000"
      ]
     },
     "execution_count": 52,
     "metadata": {},
     "output_type": "execute_result"
    }
   ],
   "source": [
    "print(f'Среднее значение для X = {np.mean(X)}')\n",
    "print(f'Максимальное значение для X = {max(X)}')\n",
    "print(f'Минимальное значение для X = {min(X)}')\n",
    "print(f'Медианное значение для X = {np.median(X)}')\n",
    "print(f'Стандартное отклонение для X = {np.std(X)}')\n",
    "print('---------')\n",
    "print(f'Среднее значение для Y = {np.mean(Y)}')\n",
    "print(f'Максимальное значение для Y = {max(Y)}')\n",
    "print(f'Минимальное значение для Y = {min(Y)}')\n",
    "print(f'Медианное значение для Y = {np.median(Y)}')\n",
    "print(f'Стандартное отклонение для Y = {np.std(Y)}')\n",
    "\n",
    "print('Корреляционная матрица')\n",
    "pd.DataFrame(np.corrcoef(X, Y), columns=(['X', 'Y']), index=['X', 'Y'])\n"
   ]
  },
  {
   "cell_type": "markdown",
   "metadata": {},
   "source": [
    "#### Двумерная диаграмма"
   ]
  },
  {
   "cell_type": "code",
   "execution_count": 54,
   "metadata": {},
   "outputs": [],
   "source": [
    "def hist_2d(x, y):\n",
    "    fig = plt.figure(figsize=(12, 10))\n",
    "    ax = fig.add_subplot(projection='3d')\n",
    "    hist, xedges, yedges = np.histogram2d(x, y, bins=4)\n",
    "    xpos, ypos = np.meshgrid(xedges[:-1] + 0.5, yedges[:-1] + 0.5, indexing=\"ij\")\n",
    "    xpos = xpos.ravel()\n",
    "    ypos = ypos.ravel()\n",
    "    zpos = 0\n",
    "    dx = dy = 1 * np.ones_like(zpos)\n",
    "    dz = hist.ravel()\n",
    "    ax.bar3d(xpos, ypos, zpos, dx, dy, dz, zsort='average')\n",
    "    plt.show()"
   ]
  },
  {
   "cell_type": "code",
   "execution_count": 55,
   "metadata": {},
   "outputs": [],
   "source": [
    "hist_2d(X, Y)"
   ]
  },
  {
   "cell_type": "markdown",
   "metadata": {},
   "source": []
  }
 ],
 "metadata": {
  "kernelspec": {
   "display_name": "Python 3",
   "language": "python",
   "name": "python3"
  },
  "language_info": {
   "codemirror_mode": {
    "name": "ipython",
    "version": 3
   },
   "file_extension": ".py",
   "mimetype": "text/x-python",
   "name": "python",
   "nbconvert_exporter": "python",
   "pygments_lexer": "ipython3",
   "version": "3.7.5rc1"
  }
 },
 "nbformat": 4,
 "nbformat_minor": 2
}
